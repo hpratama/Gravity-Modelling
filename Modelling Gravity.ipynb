{
 "cells": [
  {
   "cell_type": "code",
   "execution_count": 1,
   "metadata": {},
   "outputs": [],
   "source": [
    "import numpy as np\n",
    "import pandas as pd\n",
    "import matplotlib.pyplot as plt"
   ]
  },
  {
   "cell_type": "code",
   "execution_count": 2,
   "metadata": {
    "collapsed": true
   },
   "outputs": [],
   "source": [
    "#Parameter Model (rho, R)\n",
    "rho1 = 1\n",
    "rho2 = 1 #perbedaan densitas (kg/m^3)\n",
    "\n",
    "#Konstanta\n",
    "x0 = 50\n",
    "m = 30\n",
    "z = 100\n",
    "cGrav = 6.674e-11 #Konstanta Gravitasi (m^3 kg^-1 s^-2)\n",
    "si2mg = 1e5         #1 SI (ms^-2) = 1e5 mGal\n"
   ]
  },
  {
   "cell_type": "code",
   "execution_count": 7,
   "metadata": {},
   "outputs": [
    {
     "data": {
      "text/plain": [
       "array([  0,   2,   4,   6,   8,  10,  12,  14,  16,  18,  20,  22,  24,\n",
       "        26,  28,  30,  32,  34,  36,  38,  40,  42,  44,  46,  48,  50,\n",
       "        52,  54,  56,  58,  60,  62,  64,  66,  68,  70,  72,  74,  76,\n",
       "        78,  80,  82,  84,  86,  88,  90,  92,  94,  96,  98, 100])"
      ]
     },
     "execution_count": 7,
     "metadata": {},
     "output_type": "execute_result"
    }
   ],
   "source": [
    "#Lokasi Pengukuran\n",
    "x = np.arange(0,102,2)"
   ]
  },
  {
   "cell_type": "code",
   "execution_count": 46,
   "metadata": {},
   "outputs": [
    {
     "name": "stdout",
     "output_type": "stream",
     "text": [
      "-165\n"
     ]
    }
   ],
   "source": [
    "#FORMULA FORWARD SQUARE\n",
    "k1 = cGrav*rho1\n",
    "dg1 = []\n",
    "for i in range(len(x)):\n",
    "    a1 = int((m/2)+(x[i]-x0))    \n",
    "    b1 = int((x[i]-x0)-(m/2))\n",
    "    dgA = k1*(a1*np.log((a1**2+z**2)/a1**2)-(b1*np.log((b1**2+z**2)/b1**2))+((2*z)*(np.arctan(a1/z)- np.arctan(b1/z))))\n",
    "k2 = cGrav*rho2\n",
    "dg2 = []\n",
    "for i in range(len(x)):\n",
    "    a2 = (m/2)+(x[i]-x0)      #Jarak Ke P(x,0)\n",
    "    b2 = (x[i]-x0)-(m/2)\n",
    "    dgB = k2*(a2*np.log((a2**2+z**2)/a2**2)-(b2*np.log((b2**2+z**2)/b2**2))+((2*z)*(np.arctan(a2/z)-np.arctan(b2/z))))\n",
    "    dg2.append(dgB)"
   ]
  },
  {
   "cell_type": "code",
   "execution_count": 42,
   "metadata": {},
   "outputs": [
    {
     "name": "stdout",
     "output_type": "stream",
     "text": [
      "[7.4118235857035757e-10, 5.982952417034764e-10, 5.982952417034764e-10, 7.4118235857035757e-10]\n"
     ]
    }
   ],
   "source": [
    "#Forward modeling 1\n",
    "# dg1  = dg1*si2mg  #1 SI = 1e5 mGal\n",
    "print(dg1)\n",
    "# dg2  = dg2*si2mg  #1 SI = 1e5 mGal\n",
    "x = [-z,(-z-20),(-z-20),-z]\n",
    "y = [((x0/2)-(m/6)),((x0/2)-(m/6)),((x0/2)+(m/3)),((x0/2)+(m/3))]\n",
    "x1 = [-z,(-z-20),(-z-20),-z]\n",
    "y1 = [((x0/2)-(m/6)),((x0/2)-(m/6)),((x0/2)+(m/3)),((x0/2)+(m/3))]\n"
   ]
  },
  {
   "cell_type": "code",
   "execution_count": 6,
   "metadata": {},
   "outputs": [
    {
     "name": "stderr",
     "output_type": "stream",
     "text": [
      "C:\\Users\\Hadyan Pratama\\Anaconda3\\lib\\site-packages\\ipykernel_launcher.py:4: MatplotlibDeprecationWarning: pyplot.hold is deprecated.\n",
      "    Future behavior will be consistent with the long-time default:\n",
      "    plot commands add elements without first clearing the\n",
      "    Axes and/or Figure.\n",
      "  after removing the cwd from sys.path.\n",
      "C:\\Users\\Hadyan Pratama\\Anaconda3\\lib\\site-packages\\matplotlib\\__init__.py:805: MatplotlibDeprecationWarning: axes.hold is deprecated. Please remove it from your matplotlibrc and/or style files.\n",
      "  mplDeprecation)\n",
      "C:\\Users\\Hadyan Pratama\\Anaconda3\\lib\\site-packages\\matplotlib\\rcsetup.py:155: MatplotlibDeprecationWarning: axes.hold is deprecated, will be removed in 3.0\n",
      "  mplDeprecation)\n",
      "C:\\Users\\Hadyan Pratama\\Anaconda3\\lib\\site-packages\\matplotlib\\cbook\\deprecation.py:106: MatplotlibDeprecationWarning: Adding an axes using the same arguments as a previous axes currently reuses the earlier instance.  In a future version, a new instance will always be created and returned.  Meanwhile, this warning can be suppressed, and the future behavior ensured, by passing a unique label to each axes instance.\n",
      "  warnings.warn(message, mplDeprecation, stacklevel=1)\n",
      "C:\\Users\\Hadyan Pratama\\Anaconda3\\lib\\site-packages\\ipykernel_launcher.py:11: MatplotlibDeprecationWarning: pyplot.hold is deprecated.\n",
      "    Future behavior will be consistent with the long-time default:\n",
      "    plot commands add elements without first clearing the\n",
      "    Axes and/or Figure.\n",
      "  # This is added back by InteractiveShellApp.init_path()\n"
     ]
    },
    {
     "data": {
      "image/png": "[encoded data removed]",
      "text/plain": [
       "<matplotlib.figure.Figure at 0xa44eb70>"
      ]
     },
     "metadata": {},
     "output_type": "display_data"
    }
   ],
   "source": [
    "plt.figure(1)  # make separate figure\n",
    "plt.subplot(3, 1, 1)\n",
    "plt.plot(dg1,'b')\n",
    "plt.hold('on')\n",
    "\n",
    "plt.subplot(3,1,1)\n",
    "plt.plot(dg2,'r')\n",
    "plt.xlabel('Posisi (m)')\n",
    "plt.ylabel('Delta g (mGal)')\n",
    "plt.title('Modeling Gravity - Intrusi')\n",
    "plt.hold('off')\n",
    "\n",
    "plt.subplot(3,1,2)\n",
    "plt.fill(y,x,'b')\n",
    "plt.xlim([0,60])\n",
    "plt.ylim([-120,-50])\n",
    "plt.xlabel('Posisi (m)')\n",
    "plt.ylabel('Kedalaman (m)')\n",
    "\n",
    "plt.subplot(3,1,3)\n",
    "plt.fill(y1,x1,'r')\n",
    "plt.xlim([0,60])\n",
    "plt.ylim([-120,-50])\n",
    "plt.xlabel('Posisi (m)')\n",
    "plt.ylabel('Kedalaman (m)')\n",
    "\n",
    "plt.show()"
   ]
  },
  {
   "cell_type": "code",
   "execution_count": null,
   "metadata": {
    "collapsed": true
   },
   "outputs": [],
   "source": []
  }
 ],
 "metadata": {
  "kernelspec": {
   "display_name": "Python 3",
   "language": "python",
   "name": "python3"
  },
  "language_info": {
   "codemirror_mode": {
    "name": "ipython",
    "version": 3
   },
   "file_extension": ".py",
   "mimetype": "text/x-python",
   "name": "python",
   "nbconvert_exporter": "python",
   "pygments_lexer": "ipython3",
   "version": "3.7.3"
  }
 },
 "nbformat": 4,
 "nbformat_minor": 2
}
